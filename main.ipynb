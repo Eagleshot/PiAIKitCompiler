{
 "cells": [
  {
   "cell_type": "markdown",
   "metadata": {},
   "source": [
    "[![Open In Colab](https://colab.research.google.com/assets/colab-badge.svg)](https://colab.research.google.com/github/Eagleshot/PiAIKitCompiler/blob/main/yolo.ipynb)"
   ]
  },
  {
   "cell_type": "code",
   "execution_count": null,
   "metadata": {},
   "outputs": [],
   "source": [
    "!sudo apt-get install python3.10-dev python3.10-distutils python3-tk libfuse2 graphviz libgraphviz-dev\n",
    "!pip install virtualenv\n",
    "\n",
    "# Create new virtual environment\n",
    "!virtualenv hailo\n",
    "!. hailo/bin/activate"
   ]
  },
  {
   "cell_type": "code",
   "execution_count": null,
   "metadata": {},
   "outputs": [],
   "source": [
    "# Check if file is present\n",
    "from google.colab import files\n",
    "files.upload()\n",
    "\n",
    "!pip install hailo_dataflow_compiler-3.28.0-py3-none-linux_x86_64.whl\n",
    "\n",
    "# Check if the installation was successful\n",
    "!pip freeze | grep hailo\n",
    "!hailo -h"
   ]
  },
  {
   "cell_type": "code",
   "execution_count": null,
   "metadata": {},
   "outputs": [],
   "source": [
    "import tensorflow as tf\n",
    "from hailo_sdk_client import ClientRunner\n",
    "\n",
    "# Set hardware architecture\n",
    "chosen_hw_arch = \"hailo_8l\" # or \"hailo_15h\" or \"hailo_8\"\n",
    "onnx_model_name = \"best\"\n",
    "\n",
    "# Convert the model to hailo archive format\n",
    "runner = ClientRunner(hw_arch=chosen_hw_arch)\n",
    "hh, npz = runner.translate_onnx_model(\n",
    "    f\"{onnx_model_path}/{onnx_model_name}.onnx\",\n",
    "    onnx_model_name,   \n",
    ")\n",
    "\n",
    "# Export the model\n",
    "hailo_model_name = f\"{onnx_model_name}_{chosen_hw_arch}.har\"\n",
    "runner.save_har(hailo_model_name)"
   ]
  }
 ],
 "metadata": {
  "language_info": {
   "name": "python"
  }
 },
 "nbformat": 4,
 "nbformat_minor": 2
}
