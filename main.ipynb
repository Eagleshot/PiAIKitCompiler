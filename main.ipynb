{
 "cells": [
  {
   "cell_type": "markdown",
   "metadata": {},
   "source": [
    "[![Open In Colab](https://colab.research.google.com/assets/colab-badge.svg)](https://colab.research.google.com/github/Eagleshot/PiAIKitCompiler/blob/main/main.ipynb)"
   ]
  },
  {
   "cell_type": "code",
   "execution_count": null,
   "metadata": {},
   "outputs": [],
   "source": [
    "# Install packages\n",
    "!sudo apt-get install python3.10-dev python3.10-distutils python3-tk libfuse2 graphviz libgraphviz-dev\n",
    "!pip install virtualenv\n",
    "\n",
    "# Create new virtual environment\n",
    "!virtualenv hailo\n",
    "!. hailo/bin/activate\n",
    "\n",
    "# Install ultralytics yolo\n",
    "!pip install ultralytics"
   ]
  },
  {
   "cell_type": "code",
   "execution_count": null,
   "metadata": {},
   "outputs": [],
   "source": [
    "# Install hailo dataflow compiler\n",
    "!pip install hailo_dataflow_compiler-3.28.0-py3-none-linux_x86_64.whl\n",
    "\n",
    "# Check if the installation was successful\n",
    "!pip freeze | grep hailo\n",
    "!hailo -h"
   ]
  },
  {
   "cell_type": "code",
   "execution_count": null,
   "metadata": {},
   "outputs": [],
   "source": [
    "# Install hailo model zoo\n",
    "# File needs to be downloaded from hailo website -> https://hailo.ai/developer-zone/software-downloads/\n",
    "!pip install hailo_model_zoo-2.12.0-py3-none-any.whl\n",
    "\n",
    "# Check installation success\n",
    "!hailomz -h\n",
    "\n",
    "# You may need to restart the runtime"
   ]
  },
  {
   "cell_type": "code",
   "execution_count": null,
   "metadata": {},
   "outputs": [],
   "source": [
    "from ultralytics import YOLO\n",
    "\n",
    "model = YOLO(\"yolov8s.pt\")\n",
    "\n",
    "model.export(format=\"onnx\", imgsz=640, opset=11)"
   ]
  },
  {
   "cell_type": "code",
   "execution_count": null,
   "metadata": {},
   "outputs": [],
   "source": [
    "# Parse the model to .har (hailo archive)\n",
    "!hailomz parse --hw-arch hailo8l --ckpt ./yolov8s.onnx yolov8s --end-node-names /model.22/cv2.0/cv2.0.2/Conv /model.22/cv3.0/cv3.0.2/Conv /model.22/cv2.1/cv2.1.2/Conv /model.22/cv3.1/cv3.1.2/Conv /model.22/cv2.2/cv2.2.2/Conv /model.22/cv3.2/cv3.2.2/Conv"
   ]
  },
  {
   "cell_type": "code",
   "execution_count": null,
   "metadata": {},
   "outputs": [],
   "source": [
    "!git clone https://github.com/hailo-ai/hailo_model_zoo.git\n",
    "!python /content/hailo_model_zoo/hailo_model_zoo/datasets/create_coco_tfrecord.py calib2017"
   ]
  },
  {
   "cell_type": "code",
   "execution_count": null,
   "metadata": {},
   "outputs": [],
   "source": [
    "!hailomz compile  yolov8s --hw-arch hailo8l --har ./yolov8s.har"
   ]
  }
 ],
 "metadata": {
  "language_info": {
   "name": "python"
  }
 },
 "nbformat": 4,
 "nbformat_minor": 2
}
