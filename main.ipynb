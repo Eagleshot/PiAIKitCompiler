{
 "cells": [
  {
   "cell_type": "markdown",
   "metadata": {},
   "source": [
    "[![Open In Colab](https://colab.research.google.com/assets/colab-badge.svg)](https://colab.research.google.com/github/Eagleshot/PiAIKitCompiler/blob/main/main.ipynb)"
   ]
  },
  {
   "cell_type": "code",
   "execution_count": null,
   "metadata": {},
   "outputs": [],
   "source": [
    "# Install packages\n",
    "!sudo apt-get install python3.10-dev python3.10-distutils python3-tk libfuse2 graphviz libgraphviz-dev\n",
    "!pip install virtualenv\n",
    "\n",
    "# Create new virtual environment\n",
    "!virtualenv hailo\n",
    "!. hailo/bin/activate\n",
    "\n",
    "# Install ultralytics yolo\n",
    "!pip install ultralytics"
   ]
  },
  {
   "cell_type": "code",
   "execution_count": null,
   "metadata": {},
   "outputs": [],
   "source": [
    "# Install hailo dataflow compiler\n",
    "# File needs to be downloaded from hailo website -> https://hailo.ai/developer-zone/software-downloads/\n",
    "# You may need to restart the runtime\n",
    "!pip install hailo_dataflow_compiler-3.29.0-py3-none-linux_x86_64.whl\n",
    "\n",
    "# Check if the installation was successful\n",
    "!pip freeze | grep hailo\n",
    "!hailo -h"
   ]
  },
  {
   "cell_type": "code",
   "execution_count": null,
   "metadata": {},
   "outputs": [],
   "source": [
    "# Install hailo model zoo\n",
    "!pip install hailo_model_zoo-2.13.0-py3-none-any.whl\n",
    "\n",
    "# Check installation success\n",
    "!hailomz -h"
   ]
  },
  {
   "cell_type": "code",
   "execution_count": null,
   "metadata": {},
   "outputs": [],
   "source": [
    "# Export onnx model\n",
    "!yolo export model=yolov8s.pt imgsz=640 format=onnx opset=11"
   ]
  },
  {
   "cell_type": "code",
   "execution_count": null,
   "metadata": {},
   "outputs": [],
   "source": [
    "# Download COCO dataset\n",
    "!git clone https://github.com/hailo-ai/hailo_model_zoo.git\n",
    "!python /content/hailo_model_zoo/hailo_model_zoo/datasets/create_coco_tfrecord.py calib2017\n",
    "\n",
    "# Rename dataset for hailo to find it\n",
    "!mv /root/.hailomz/data/models_files/coco/2023-08-03 /root/.hailomz/data/models_files/coco/2021-06-18 "
   ]
  },
  {
   "cell_type": "code",
   "execution_count": null,
   "metadata": {},
   "outputs": [],
   "source": [
    "# Download alls\n",
    "!mkdir /usr/local/lib/python3.10/dist-packages/hailo_model_zoo/cfg/alls/generic\n",
    "!wget -O /usr/local/lib/python3.10/dist-packages/hailo_model_zoo/cfg/alls/generic/yolov8s.alls https://raw.githubusercontent.com/hailo-ai/hailo_model_zoo/master/hailo_model_zoo/cfg/alls/generic/yolov8s.alls\n",
    "\n",
    "# Download post-processing file\n",
    "!mkdir /usr/local/lib/python3.10/dist-packages/hailo_model_zoo/cfg/postprocess_config/\n",
    "!wget -O /usr/local/lib/python3.10/dist-packages/hailo_model_zoo/cfg/postprocess_config/yolov8s_nms_config.json https://raw.githubusercontent.com/hailo-ai/hailo_model_zoo/master/hailo_model_zoo/cfg/postprocess_config/yolov8s_nms_config.json"
   ]
  },
  {
   "cell_type": "code",
   "execution_count": null,
   "metadata": {},
   "outputs": [],
   "source": [
    "# Compile model\n",
    "!hailomz compile yolov8s --ckpt=yolov8s.onnx --hw-arch hailo8l # --performance"
   ]
  }
 ],
 "metadata": {
  "language_info": {
   "name": "python"
  }
 },
 "nbformat": 4,
 "nbformat_minor": 2
}
